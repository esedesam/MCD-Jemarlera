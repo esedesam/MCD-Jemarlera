{
 "cells": [
  {
   "cell_type": "code",
   "execution_count": null,
   "metadata": {},
   "outputs": [],
   "source": [
    "def bisect_minimum(func, derivative, a, b, tol=1e-6, max_iter=100):\n",
    "    \"\"\"\n",
    "    Find the minimum of a function within the interval [a, b] using derivative information.\n",
    "\n",
    "    Parameters:\n",
    "    func (function): The continuous function to find the minimum of.\n",
    "    derivative (function): The first derivative of the function.\n",
    "    a (float): Left endpoint of the interval.\n",
    "    b (float): Right endpoint of the interval.\n",
    "    tol (float): Tolerance for the minimum approximation.\n",
    "    max_iter (int): Maximum number of iterations.\n",
    "\n",
    "    Returns:\n",
    "    float: Approximation of the minimum.\n",
    "    \"\"\"\n",
    "\n",
    "    if derivative(a) * derivative(b) >= 0:\n",
    "        raise ValueError(\"Derivative values at endpoints must have different signs.\")\n",
    "\n",
    "    iteration = 0\n",
    "\n",
    "    while (b - a) / 2 > tol and iteration < max_iter:\n",
    "        c = (a + b) / 2\n",
    "        if derivative(c) == 0:\n",
    "            return c\n",
    "        elif derivative(c) * derivative(a) < 0:\n",
    "            b = c\n",
    "        else:\n",
    "            a = c\n",
    "\n",
    "        iteration += 1\n",
    "\n",
    "    return (a + b) / 2\n",
    "\n",
    "# Example usage:\n",
    "if __name__ == \"__main__\":\n",
    "    def f(x):\n",
    "        return x**2 + 2 * x + 1  # A simple quadratic function with a minimum at x = -1\n",
    "\n",
    "    def f_prime(x):\n",
    "        return 2 * x + 2\n",
    "\n",
    "    minimum = bisect_minimum(f, f_prime, -10, 10)\n",
    "    print(\"Approximate minimum:\", minimum)\n"
   ]
  }
 ],
 "metadata": {
  "language_info": {
   "name": "python"
  }
 },
 "nbformat": 4,
 "nbformat_minor": 2
}
